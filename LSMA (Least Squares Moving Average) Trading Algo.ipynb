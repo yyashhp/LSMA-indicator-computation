{
 "cells": [
  {
   "cell_type": "code",
   "execution_count": 100,
   "id": "fd6429fc",
   "metadata": {},
   "outputs": [],
   "source": [
    "# Run an OLS regression for a certain window\n",
    "# Need a prediction based on the regression \n",
    "# over the past n days\n",
    "# n regressions for n days\n",
    "# add the coloumn of predicted vals to each date after n days of lookback"
   ]
  },
  {
   "cell_type": "code",
   "execution_count": 101,
   "id": "31011955",
   "metadata": {},
   "outputs": [],
   "source": [
    "import yfinance as yf\n",
    "import pandas as pd\n",
    "import statsmodels.api as sm\n",
    "import matplotlib.pyplot as plt"
   ]
  },
  {
   "cell_type": "code",
   "execution_count": 176,
   "id": "7b4a92a4",
   "metadata": {},
   "outputs": [
    {
     "name": "stdout",
     "output_type": "stream",
     "text": [
      "[*********************100%***********************]  1 of 1 completed\n"
     ]
    },
    {
     "data": {
      "text/html": [
       "<div>\n",
       "<style scoped>\n",
       "    .dataframe tbody tr th:only-of-type {\n",
       "        vertical-align: middle;\n",
       "    }\n",
       "\n",
       "    .dataframe tbody tr th {\n",
       "        vertical-align: top;\n",
       "    }\n",
       "\n",
       "    .dataframe thead th {\n",
       "        text-align: right;\n",
       "    }\n",
       "</style>\n",
       "<table border=\"1\" class=\"dataframe\">\n",
       "  <thead>\n",
       "    <tr style=\"text-align: right;\">\n",
       "      <th></th>\n",
       "      <th>LSMA</th>\n",
       "      <th>Open</th>\n",
       "      <th>High</th>\n",
       "      <th>Low</th>\n",
       "      <th>Close</th>\n",
       "      <th>Adj Close</th>\n",
       "      <th>Volume</th>\n",
       "    </tr>\n",
       "  </thead>\n",
       "  <tbody>\n",
       "    <tr>\n",
       "      <th>2018-01-02</th>\n",
       "      <td>NaN</td>\n",
       "      <td>20.799999</td>\n",
       "      <td>21.474001</td>\n",
       "      <td>20.733334</td>\n",
       "      <td>21.368668</td>\n",
       "      <td>21.368668</td>\n",
       "      <td>65283000</td>\n",
       "    </tr>\n",
       "    <tr>\n",
       "      <th>2018-01-03</th>\n",
       "      <td>NaN</td>\n",
       "      <td>21.400000</td>\n",
       "      <td>21.683332</td>\n",
       "      <td>21.036667</td>\n",
       "      <td>21.150000</td>\n",
       "      <td>21.150000</td>\n",
       "      <td>67822500</td>\n",
       "    </tr>\n",
       "    <tr>\n",
       "      <th>2018-01-04</th>\n",
       "      <td>NaN</td>\n",
       "      <td>20.858000</td>\n",
       "      <td>21.236668</td>\n",
       "      <td>20.378668</td>\n",
       "      <td>20.974667</td>\n",
       "      <td>20.974667</td>\n",
       "      <td>149194500</td>\n",
       "    </tr>\n",
       "    <tr>\n",
       "      <th>2018-01-05</th>\n",
       "      <td>NaN</td>\n",
       "      <td>21.108000</td>\n",
       "      <td>21.149332</td>\n",
       "      <td>20.799999</td>\n",
       "      <td>21.105333</td>\n",
       "      <td>21.105333</td>\n",
       "      <td>68868000</td>\n",
       "    </tr>\n",
       "    <tr>\n",
       "      <th>2018-01-08</th>\n",
       "      <td>NaN</td>\n",
       "      <td>21.066668</td>\n",
       "      <td>22.468000</td>\n",
       "      <td>21.033333</td>\n",
       "      <td>22.427334</td>\n",
       "      <td>22.427334</td>\n",
       "      <td>147891000</td>\n",
       "    </tr>\n",
       "    <tr>\n",
       "      <th>...</th>\n",
       "      <td>...</td>\n",
       "      <td>...</td>\n",
       "      <td>...</td>\n",
       "      <td>...</td>\n",
       "      <td>...</td>\n",
       "      <td>...</td>\n",
       "      <td>...</td>\n",
       "    </tr>\n",
       "    <tr>\n",
       "      <th>2022-12-19</th>\n",
       "      <td>133.249047</td>\n",
       "      <td>154.000000</td>\n",
       "      <td>155.250000</td>\n",
       "      <td>145.820007</td>\n",
       "      <td>149.869995</td>\n",
       "      <td>149.869995</td>\n",
       "      <td>139390600</td>\n",
       "    </tr>\n",
       "    <tr>\n",
       "      <th>2022-12-20</th>\n",
       "      <td>133.249047</td>\n",
       "      <td>146.050003</td>\n",
       "      <td>148.470001</td>\n",
       "      <td>137.660004</td>\n",
       "      <td>137.800003</td>\n",
       "      <td>137.800003</td>\n",
       "      <td>159563300</td>\n",
       "    </tr>\n",
       "    <tr>\n",
       "      <th>2022-12-21</th>\n",
       "      <td>133.249047</td>\n",
       "      <td>139.339996</td>\n",
       "      <td>141.259995</td>\n",
       "      <td>135.889999</td>\n",
       "      <td>137.570007</td>\n",
       "      <td>137.570007</td>\n",
       "      <td>145417400</td>\n",
       "    </tr>\n",
       "    <tr>\n",
       "      <th>2022-12-22</th>\n",
       "      <td>133.249047</td>\n",
       "      <td>136.000000</td>\n",
       "      <td>136.630005</td>\n",
       "      <td>122.260002</td>\n",
       "      <td>125.349998</td>\n",
       "      <td>125.349998</td>\n",
       "      <td>210090300</td>\n",
       "    </tr>\n",
       "    <tr>\n",
       "      <th>2022-12-23</th>\n",
       "      <td>133.249047</td>\n",
       "      <td>126.370003</td>\n",
       "      <td>128.619995</td>\n",
       "      <td>121.019997</td>\n",
       "      <td>123.150002</td>\n",
       "      <td>123.150002</td>\n",
       "      <td>166396100</td>\n",
       "    </tr>\n",
       "  </tbody>\n",
       "</table>\n",
       "<p>1255 rows × 7 columns</p>\n",
       "</div>"
      ],
      "text/plain": [
       "                  LSMA        Open        High         Low       Close  \\\n",
       "2018-01-02         NaN   20.799999   21.474001   20.733334   21.368668   \n",
       "2018-01-03         NaN   21.400000   21.683332   21.036667   21.150000   \n",
       "2018-01-04         NaN   20.858000   21.236668   20.378668   20.974667   \n",
       "2018-01-05         NaN   21.108000   21.149332   20.799999   21.105333   \n",
       "2018-01-08         NaN   21.066668   22.468000   21.033333   22.427334   \n",
       "...                ...         ...         ...         ...         ...   \n",
       "2022-12-19  133.249047  154.000000  155.250000  145.820007  149.869995   \n",
       "2022-12-20  133.249047  146.050003  148.470001  137.660004  137.800003   \n",
       "2022-12-21  133.249047  139.339996  141.259995  135.889999  137.570007   \n",
       "2022-12-22  133.249047  136.000000  136.630005  122.260002  125.349998   \n",
       "2022-12-23  133.249047  126.370003  128.619995  121.019997  123.150002   \n",
       "\n",
       "             Adj Close     Volume  \n",
       "2018-01-02   21.368668   65283000  \n",
       "2018-01-03   21.150000   67822500  \n",
       "2018-01-04   20.974667  149194500  \n",
       "2018-01-05   21.105333   68868000  \n",
       "2018-01-08   22.427334  147891000  \n",
       "...                ...        ...  \n",
       "2022-12-19  149.869995  139390600  \n",
       "2022-12-20  137.800003  159563300  \n",
       "2022-12-21  137.570007  145417400  \n",
       "2022-12-22  125.349998  210090300  \n",
       "2022-12-23  123.150002  166396100  \n",
       "\n",
       "[1255 rows x 7 columns]"
      ]
     },
     "execution_count": 176,
     "metadata": {},
     "output_type": "execute_result"
    }
   ],
   "source": [
    "# final method, resultant of all code below..\n",
    "\n",
    "def createLSMAPredictionCol(ticker,window,startyear):\n",
    "    df=yf.download(ticker,start = str(startyear)+'-01-01')\n",
    "    n = window\n",
    "    lsma = []\n",
    "    dates = []\n",
    "    for i in range(len(df)-(n-1)):\n",
    "        input_reg = df[i:n+i]\n",
    "        Y = input_reg['Adj Close']\n",
    "        X = pd.Series(range(len(input_reg.index))).values\n",
    "        Model = sm.OLS(Y,sm.add_constant(X)).fit()\n",
    "        prediction=currModel.predict()[-1]\n",
    "        lsma.append(prediction)\n",
    "        dates.append(input_reg.iloc[-1].name)\n",
    "    lsma_df = pd.DataFrame({'LSMA': lsma}, index = dates)\n",
    "    final_df = pd.concat([lsma_df,df], axis = 1)\n",
    "    return final_df\n",
    "ticker = 'TSLA'\n",
    "fin = createLSMAPredictionCol(ticker,40,2018)\n",
    "fin\n",
    "    "
   ]
  },
  {
   "cell_type": "code",
   "execution_count": 154,
   "id": "c08900f3",
   "metadata": {},
   "outputs": [
    {
     "name": "stdout",
     "output_type": "stream",
     "text": [
      "[*********************100%***********************]  1 of 1 completed\n"
     ]
    }
   ],
   "source": [
    "df = yf.download('AAPL', start= '2020-01-01')"
   ]
  },
  {
   "cell_type": "code",
   "execution_count": 155,
   "id": "ba76e449",
   "metadata": {},
   "outputs": [],
   "source": [
    "n = 25\n",
    "# run a regression over first 25 rows of df"
   ]
  },
  {
   "cell_type": "code",
   "execution_count": 156,
   "id": "0148bde8",
   "metadata": {},
   "outputs": [
    {
     "data": {
      "text/html": [
       "<div>\n",
       "<style scoped>\n",
       "    .dataframe tbody tr th:only-of-type {\n",
       "        vertical-align: middle;\n",
       "    }\n",
       "\n",
       "    .dataframe tbody tr th {\n",
       "        vertical-align: top;\n",
       "    }\n",
       "\n",
       "    .dataframe thead th {\n",
       "        text-align: right;\n",
       "    }\n",
       "</style>\n",
       "<table border=\"1\" class=\"dataframe\">\n",
       "  <thead>\n",
       "    <tr style=\"text-align: right;\">\n",
       "      <th></th>\n",
       "      <th>Open</th>\n",
       "      <th>High</th>\n",
       "      <th>Low</th>\n",
       "      <th>Close</th>\n",
       "      <th>Adj Close</th>\n",
       "      <th>Volume</th>\n",
       "    </tr>\n",
       "    <tr>\n",
       "      <th>Date</th>\n",
       "      <th></th>\n",
       "      <th></th>\n",
       "      <th></th>\n",
       "      <th></th>\n",
       "      <th></th>\n",
       "      <th></th>\n",
       "    </tr>\n",
       "  </thead>\n",
       "  <tbody>\n",
       "    <tr>\n",
       "      <th>2020-01-02</th>\n",
       "      <td>74.059998</td>\n",
       "      <td>75.150002</td>\n",
       "      <td>73.797501</td>\n",
       "      <td>75.087502</td>\n",
       "      <td>73.561531</td>\n",
       "      <td>135480400</td>\n",
       "    </tr>\n",
       "    <tr>\n",
       "      <th>2020-01-03</th>\n",
       "      <td>74.287498</td>\n",
       "      <td>75.144997</td>\n",
       "      <td>74.125000</td>\n",
       "      <td>74.357498</td>\n",
       "      <td>72.846382</td>\n",
       "      <td>146322800</td>\n",
       "    </tr>\n",
       "    <tr>\n",
       "      <th>2020-01-06</th>\n",
       "      <td>73.447502</td>\n",
       "      <td>74.989998</td>\n",
       "      <td>73.187500</td>\n",
       "      <td>74.949997</td>\n",
       "      <td>73.426819</td>\n",
       "      <td>118387200</td>\n",
       "    </tr>\n",
       "    <tr>\n",
       "      <th>2020-01-07</th>\n",
       "      <td>74.959999</td>\n",
       "      <td>75.224998</td>\n",
       "      <td>74.370003</td>\n",
       "      <td>74.597504</td>\n",
       "      <td>73.081497</td>\n",
       "      <td>108872000</td>\n",
       "    </tr>\n",
       "    <tr>\n",
       "      <th>2020-01-08</th>\n",
       "      <td>74.290001</td>\n",
       "      <td>76.110001</td>\n",
       "      <td>74.290001</td>\n",
       "      <td>75.797501</td>\n",
       "      <td>74.257111</td>\n",
       "      <td>132079200</td>\n",
       "    </tr>\n",
       "    <tr>\n",
       "      <th>...</th>\n",
       "      <td>...</td>\n",
       "      <td>...</td>\n",
       "      <td>...</td>\n",
       "      <td>...</td>\n",
       "      <td>...</td>\n",
       "      <td>...</td>\n",
       "    </tr>\n",
       "    <tr>\n",
       "      <th>2022-12-19</th>\n",
       "      <td>135.110001</td>\n",
       "      <td>135.199997</td>\n",
       "      <td>131.320007</td>\n",
       "      <td>132.369995</td>\n",
       "      <td>132.369995</td>\n",
       "      <td>79592600</td>\n",
       "    </tr>\n",
       "    <tr>\n",
       "      <th>2022-12-20</th>\n",
       "      <td>131.389999</td>\n",
       "      <td>133.250000</td>\n",
       "      <td>129.889999</td>\n",
       "      <td>132.300003</td>\n",
       "      <td>132.300003</td>\n",
       "      <td>77432800</td>\n",
       "    </tr>\n",
       "    <tr>\n",
       "      <th>2022-12-21</th>\n",
       "      <td>132.979996</td>\n",
       "      <td>136.809998</td>\n",
       "      <td>132.750000</td>\n",
       "      <td>135.449997</td>\n",
       "      <td>135.449997</td>\n",
       "      <td>85928000</td>\n",
       "    </tr>\n",
       "    <tr>\n",
       "      <th>2022-12-22</th>\n",
       "      <td>134.350006</td>\n",
       "      <td>134.559998</td>\n",
       "      <td>130.300003</td>\n",
       "      <td>132.229996</td>\n",
       "      <td>132.229996</td>\n",
       "      <td>77852100</td>\n",
       "    </tr>\n",
       "    <tr>\n",
       "      <th>2022-12-23</th>\n",
       "      <td>130.919998</td>\n",
       "      <td>132.419998</td>\n",
       "      <td>129.639999</td>\n",
       "      <td>131.860001</td>\n",
       "      <td>131.860001</td>\n",
       "      <td>63771000</td>\n",
       "    </tr>\n",
       "  </tbody>\n",
       "</table>\n",
       "<p>752 rows × 6 columns</p>\n",
       "</div>"
      ],
      "text/plain": [
       "                  Open        High         Low       Close   Adj Close  \\\n",
       "Date                                                                     \n",
       "2020-01-02   74.059998   75.150002   73.797501   75.087502   73.561531   \n",
       "2020-01-03   74.287498   75.144997   74.125000   74.357498   72.846382   \n",
       "2020-01-06   73.447502   74.989998   73.187500   74.949997   73.426819   \n",
       "2020-01-07   74.959999   75.224998   74.370003   74.597504   73.081497   \n",
       "2020-01-08   74.290001   76.110001   74.290001   75.797501   74.257111   \n",
       "...                ...         ...         ...         ...         ...   \n",
       "2022-12-19  135.110001  135.199997  131.320007  132.369995  132.369995   \n",
       "2022-12-20  131.389999  133.250000  129.889999  132.300003  132.300003   \n",
       "2022-12-21  132.979996  136.809998  132.750000  135.449997  135.449997   \n",
       "2022-12-22  134.350006  134.559998  130.300003  132.229996  132.229996   \n",
       "2022-12-23  130.919998  132.419998  129.639999  131.860001  131.860001   \n",
       "\n",
       "               Volume  \n",
       "Date                   \n",
       "2020-01-02  135480400  \n",
       "2020-01-03  146322800  \n",
       "2020-01-06  118387200  \n",
       "2020-01-07  108872000  \n",
       "2020-01-08  132079200  \n",
       "...               ...  \n",
       "2022-12-19   79592600  \n",
       "2022-12-20   77432800  \n",
       "2022-12-21   85928000  \n",
       "2022-12-22   77852100  \n",
       "2022-12-23   63771000  \n",
       "\n",
       "[752 rows x 6 columns]"
      ]
     },
     "execution_count": 156,
     "metadata": {},
     "output_type": "execute_result"
    }
   ],
   "source": [
    "test_df = df[:window]\n",
    "df"
   ]
  },
  {
   "cell_type": "code",
   "execution_count": 157,
   "id": "da09c521",
   "metadata": {},
   "outputs": [
    {
     "data": {
      "text/plain": [
       "(25, 6)"
      ]
     },
     "execution_count": 157,
     "metadata": {},
     "output_type": "execute_result"
    }
   ],
   "source": [
    "test_df.shape"
   ]
  },
  {
   "cell_type": "code",
   "execution_count": 158,
   "id": "2851cc76",
   "metadata": {},
   "outputs": [],
   "source": [
    "# define dependent var\n",
    "Y=test_df['Adj Close']"
   ]
  },
  {
   "cell_type": "code",
   "execution_count": 159,
   "id": "a1e3db1e",
   "metadata": {},
   "outputs": [
    {
     "data": {
      "text/plain": [
       "array([ 0,  1,  2,  3,  4,  5,  6,  7,  8,  9, 10, 11, 12, 13, 14, 15, 16,\n",
       "       17, 18, 19, 20, 21, 22, 23, 24])"
      ]
     },
     "execution_count": 159,
     "metadata": {},
     "output_type": "execute_result"
    }
   ],
   "source": [
    "# independent var is date\n",
    "# transform dates into int vals\n",
    "X = pd.Series(range(len(test_df.index))).values\n",
    "X"
   ]
  },
  {
   "cell_type": "code",
   "execution_count": 160,
   "id": "471113f7",
   "metadata": {},
   "outputs": [],
   "source": [
    "# add intercept\n",
    "model = sm.OLS(Y, sm.add_constant(X)).fit()"
   ]
  },
  {
   "cell_type": "code",
   "execution_count": 161,
   "id": "0e219f76",
   "metadata": {},
   "outputs": [
    {
     "data": {
      "text/plain": [
       "const    74.175341\n",
       "x1        0.206554\n",
       "dtype: float64"
      ]
     },
     "execution_count": 161,
     "metadata": {},
     "output_type": "execute_result"
    }
   ],
   "source": [
    "model.params\n",
    "# need a prediction for the first day \n",
    "# after 25 days of lookback"
   ]
  },
  {
   "cell_type": "code",
   "execution_count": 162,
   "id": "b174155b",
   "metadata": {},
   "outputs": [
    {
     "data": {
      "text/plain": [
       "79.1326321645883"
      ]
     },
     "execution_count": 162,
     "metadata": {},
     "output_type": "execute_result"
    }
   ],
   "source": [
    "model.params.const + (n-1) * model.params.x1"
   ]
  },
  {
   "cell_type": "code",
   "execution_count": 163,
   "id": "40166b95",
   "metadata": {},
   "outputs": [
    {
     "data": {
      "text/plain": [
       "array([74.17534147, 74.38189525, 74.58844903, 74.79500281, 75.00155658,\n",
       "       75.20811036, 75.41466414, 75.62121792, 75.8277717 , 76.03432548,\n",
       "       76.24087926, 76.44743304, 76.65398682, 76.8605406 , 77.06709437,\n",
       "       77.27364815, 77.48020193, 77.68675571, 77.89330949, 78.09986327,\n",
       "       78.30641705, 78.51297083, 78.71952461, 78.92607839, 79.13263216])"
      ]
     },
     "execution_count": 163,
     "metadata": {},
     "output_type": "execute_result"
    }
   ],
   "source": [
    "model.predict()\n",
    "# last value of this also provides \n",
    "# same prediction as manual calculation"
   ]
  },
  {
   "cell_type": "code",
   "execution_count": 164,
   "id": "5e047ddf",
   "metadata": {},
   "outputs": [
    {
     "data": {
      "text/plain": [
       "79.1326321645883"
      ]
     },
     "execution_count": 164,
     "metadata": {},
     "output_type": "execute_result"
    }
   ],
   "source": [
    " model.predict()[-1]"
   ]
  },
  {
   "cell_type": "code",
   "execution_count": 165,
   "id": "3729687a",
   "metadata": {},
   "outputs": [],
   "source": [
    "# predictions can begin at the day after n days\n",
    "# 25 days in this case"
   ]
  },
  {
   "cell_type": "code",
   "execution_count": 166,
   "id": "e84629c6",
   "metadata": {},
   "outputs": [],
   "source": [
    "# create arrays to store lsma vals and dates\n",
    "# (beginning at first date after n days lookback)\n",
    "\n",
    "lsma = []\n",
    "dates = []\n",
    "for i in range(len(df)-24):\n",
    "    input_reg = df[i:n+i]\n",
    "    dep = input_reg['Adj Close']\n",
    "    ind = pd.Series(range(len(input_reg.index))).values\n",
    "    currModel = sm.OLS(dep,sm.add_constant(ind)).fit()\n",
    "    pred=currModel.predict()[-1]\n",
    "    lsma.append(pred)\n",
    "    dates.append(input_reg.iloc[-1].name)"
   ]
  },
  {
   "cell_type": "code",
   "execution_count": 167,
   "id": "8ac68486",
   "metadata": {},
   "outputs": [],
   "source": [
    "lsma_df = pd.DataFrame({'LSMA': lsma}, index = dates)"
   ]
  },
  {
   "cell_type": "code",
   "execution_count": 168,
   "id": "1609a323",
   "metadata": {},
   "outputs": [],
   "source": [
    "final_df = pd.concat([lsma_df,df], axis = 1)\n"
   ]
  },
  {
   "cell_type": "code",
   "execution_count": 169,
   "id": "cbdc7662",
   "metadata": {},
   "outputs": [],
   "source": [
    "# creating strategy with the final dataframe\n",
    "# buying signal when close<LSMA, and sell when close>LSMA\n",
    "# final_df['signal_buy'] = final_df['Adj Close']<final_df.LSMA\n",
    "# final_df['signal_sell'] = final_df['Adj Close']>final_df.LSMA\n"
   ]
  },
  {
   "cell_type": "code",
   "execution_count": 170,
   "id": "883be4f5",
   "metadata": {},
   "outputs": [],
   "source": [
    "# shifting to avoid forward-looking bias\n",
    "# final_df['shifted_Open'] = final_df.Open.shift(-1)\n",
    "# final_df"
   ]
  },
  {
   "cell_type": "code",
   "execution_count": 171,
   "id": "a381ac3e",
   "metadata": {},
   "outputs": [
    {
     "data": {
      "text/plain": [
       "'in_position = False\\nbuydates,selldates = [],[]\\nbuyprices,sellprices=[],[]\\nfor indew,row in final_df.iterrows():\\n     if not in_position and row.signal_buy == True:\\n        buyprice = row.shifted_open\\n        buydates.append(buyprice)\\n        buydates.append(index)\\n        in_position=True\\n    if in_position and row.signal_sell== True:\\n        sellprice = row.shifted_open\\n        sellprices.append(sellprice)\\n        selldates.append(index)\\n        in_position=False\\n'"
      ]
     },
     "execution_count": 171,
     "metadata": {},
     "output_type": "execute_result"
    }
   ],
   "source": [
    "'''in_position = False\n",
    "buydates,selldates = [],[]\n",
    "buyprices,sellprices=[],[]\n",
    "for indew,row in final_df.iterrows():\n",
    "     if not in_position and row.signal_buy == True:\n",
    "        buyprice = row.shifted_open\n",
    "        buydates.append(buyprice)\n",
    "        buydates.append(index)\n",
    "        in_position=True\n",
    "    if in_position and row.signal_sell== True:\n",
    "        sellprice = row.shifted_open\n",
    "        sellprices.append(sellprice)\n",
    "        selldates.append(index)\n",
    "        in_position=False\n",
    "'''"
   ]
  },
  {
   "cell_type": "code",
   "execution_count": null,
   "id": "c7a60845",
   "metadata": {},
   "outputs": [],
   "source": []
  },
  {
   "cell_type": "code",
   "execution_count": null,
   "id": "97dac4e2",
   "metadata": {},
   "outputs": [],
   "source": []
  },
  {
   "cell_type": "code",
   "execution_count": null,
   "id": "5f91b114",
   "metadata": {},
   "outputs": [],
   "source": []
  },
  {
   "cell_type": "code",
   "execution_count": null,
   "id": "25ab003b",
   "metadata": {},
   "outputs": [],
   "source": []
  }
 ],
 "metadata": {
  "kernelspec": {
   "display_name": "Python 3 (ipykernel)",
   "language": "python",
   "name": "python3"
  },
  "language_info": {
   "codemirror_mode": {
    "name": "ipython",
    "version": 3
   },
   "file_extension": ".py",
   "mimetype": "text/x-python",
   "name": "python",
   "nbconvert_exporter": "python",
   "pygments_lexer": "ipython3",
   "version": "3.9.12"
  }
 },
 "nbformat": 4,
 "nbformat_minor": 5
}
